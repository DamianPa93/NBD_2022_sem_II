{
 "cells": [
  {
   "cell_type": "code",
   "execution_count": 19,
   "id": "689d76d1",
   "metadata": {},
   "outputs": [],
   "source": [
    "import requests"
   ]
  },
  {
   "cell_type": "code",
   "execution_count": 26,
   "id": "3ea17fd2",
   "metadata": {},
   "outputs": [
    {
     "name": "stdout",
     "output_type": "stream",
     "text": [
      "Request: put\n",
      "Response status:  204\n"
     ]
    }
   ],
   "source": [
    "# Ad 1.\n",
    "headers = {'Content-Type': 'application/json'}\n",
    "data_1 = '{\\'edition\\': \\'(set)Kamigawa: Betrayers of Kamigawa\\'}'\n",
    "response_1 = requests.put('http://localhost:8098/buckets/s24559/keys/mtg', headers=headers, data=data_1)\n",
    "print('Request: put')\n",
    "print(\"Response status: \", response_1.status_code)"
   ]
  },
  {
   "cell_type": "code",
   "execution_count": 27,
   "id": "ae5aa47f",
   "metadata": {},
   "outputs": [
    {
     "name": "stdout",
     "output_type": "stream",
     "text": [
      "Request: get\n",
      "Response status:  200\n",
      "{'edition': '(set)Kamigawa: Betrayers of Kamigawa'}\n"
     ]
    }
   ],
   "source": [
    "# Ad 2.\n",
    "response_2 = requests.get('http://localhost:8098/buckets/s24559/keys/mtg')\n",
    "print(\"Request: get\")\n",
    "print(\"Response status: \", response_2.status_code),\n",
    "print(response_2.text)"
   ]
  },
  {
   "cell_type": "code",
   "execution_count": 28,
   "id": "628e334f",
   "metadata": {},
   "outputs": [
    {
     "name": "stdout",
     "output_type": "stream",
     "text": [
      "Request: put\n",
      "Response status:  204\n"
     ]
    }
   ],
   "source": [
    "# Ad 3.\n",
    "data_2 = '{\\'edition\\': \\'(set)Kamigawa: Betrayers of Kamigawa\\', \\'type\\': \\'set\\', \\'stock\\': 12, \\'price\\': 320}'\n",
    "response_3 = requests.put('http://localhost:8098/buckets/s24559/keys/mtg', headers=headers, data=data_2)\n",
    "print(\"Request: put\")\n",
    "print(\"Response status: \", response_3.status_code)"
   ]
  },
  {
   "cell_type": "code",
   "execution_count": 29,
   "id": "76ac7d94",
   "metadata": {},
   "outputs": [
    {
     "name": "stdout",
     "output_type": "stream",
     "text": [
      "Request: get\n",
      "Response status:  200\n",
      "{'edition': '(set)Kamigawa: Betrayers of Kamigawa', 'type': 'set', 'stock': 12, 'price': 320}\n"
     ]
    }
   ],
   "source": [
    "# Ad 4.\n",
    "response_4 = requests.get('http://localhost:8098/buckets/s24559/keys/mtg')\n",
    "print(\"Request: get\")\n",
    "print(\"Response status: \", response_4.status_code),\n",
    "print(response_4.text)"
   ]
  },
  {
   "cell_type": "code",
   "execution_count": 30,
   "id": "96c693fc",
   "metadata": {},
   "outputs": [
    {
     "name": "stdout",
     "output_type": "stream",
     "text": [
      "Request: delete\n",
      "Response status:  204\n"
     ]
    }
   ],
   "source": [
    "# Ad 5.\n",
    "response_5 = requests.delete('http://localhost:8098/buckets/s24559/keys/mtg')\n",
    "print(\"Request: delete\")\n",
    "print(\"Response status: \", response_delete.status_code)"
   ]
  },
  {
   "cell_type": "code",
   "execution_count": 31,
   "id": "9fc39024",
   "metadata": {},
   "outputs": [
    {
     "name": "stdout",
     "output_type": "stream",
     "text": [
      "Request: get\n",
      "Response status:  404\n",
      "not found\n",
      "\n"
     ]
    }
   ],
   "source": [
    "# Ad 6.\n",
    "response_6 = requests.get('http://localhost:8098/buckets/s24559/keys/mtg')\n",
    "print(\"Request: get\")\n",
    "print(\"Response status: \", response_6.status_code)\n",
    "print(response_6.text)"
   ]
  }
 ],
 "metadata": {
  "kernelspec": {
   "display_name": "Python 3 (ipykernel)",
   "language": "python",
   "name": "python3"
  },
  "language_info": {
   "codemirror_mode": {
    "name": "ipython",
    "version": 3
   },
   "file_extension": ".py",
   "mimetype": "text/x-python",
   "name": "python",
   "nbconvert_exporter": "python",
   "pygments_lexer": "ipython3",
   "version": "3.7.13"
  }
 },
 "nbformat": 4,
 "nbformat_minor": 5
}
